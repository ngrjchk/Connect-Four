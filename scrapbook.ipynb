{
 "cells": [
  {
   "cell_type": "code",
   "execution_count": null,
   "metadata": {},
   "outputs": [],
   "source": [
    "\n",
    "class mainWindow(QMainWindow):\n",
    "    buttonClickedSignal = Signal()\n",
    "    timerResetSignal = Signal()\n",
    "    gameOverSignal = Signal()\n",
    "    computerMoveSignal = Signal(dict)\n",
    "    timeElapsedSignal = Signal(int)\n",
    "\n",
    "    def __init__(self):\n",
    "        super().__init__()\n",
    "        self.status = gameStatus.IN_PROGRESS\n",
    "        self.cellWidth = 80\n",
    "        self.playerAction = 0\n",
    "        self.player = CurrentPlayer.HUMAN\n",
    "        self.pieceSelector = pieceSelector(self)\n",
    "        self.board = Connect4Board(self, self.cellWidth)\n",
    "        self.alphazero = AlphaZero(self)\n",
    "        self.timerGUI = TimerWidget(self, self.cellWidth)\n",
    "        self.timer = Timer(self)\n",
    "        self.gameInfo = gameInfoWidget(self)\n",
    "        self.initUI()\n",
    "\n",
    "    def initUI(self):\n",
    "        self.setWindowTitle(\"Connect-Four\")\n",
    "        self.setGeometry(0, 0, 10.5*self.cellWidth, 7.5*self.cellWidth)\n",
    "\n",
    "        self.board.setGeometry(0, 0, 7.5*self.cellWidth, 7.5*self.cellWidth)\n",
    "        self.timerGUI.setGeometry(7.5*self.cellWidth, 0, 3*self.cellWidth, 3*self.cellWidth)\n",
    "        self.gameInfo.setGeometry(7.5*self.cellWidth, 3.5*self.cellWidth, 3*self.cellWidth, 5*self.cellWidth)\n",
    "        self.pieceSelector.setGeometry(0, 0, 10.5*self.cellWidth, 7.5*self.cellWidth)\n",
    "\n",
    "        self.board.show()\n",
    "        self.timerGUI.show()\n",
    "        self.gameInfo.show()\n",
    "        self.pieceSelector.show()\n",
    "\n",
    "        self.setFixedSize(self.size())\n",
    "\n",
    "        self.show()\n",
    "\n",
    "    def paintEvent(self, event):\n",
    "        qp = QPainter(self)\n",
    "        if not qp.isActive():\n",
    "            qp.begin(self)\n",
    "        qp.fillRect(self.rect(), QBrush(QColor(0, 0, 0)))\n",
    "        qp.end()\n",
    "\n",
    "    def switchPlayer(self):\n",
    "        if self.player == CurrentPlayer.COMPUTER:\n",
    "            self.player = CurrentPlayer.HUMAN\n",
    "        else:\n",
    "            self.player = CurrentPlayer.COMPUTER"
   ]
  },
  {
   "cell_type": "code",
   "execution_count": 1,
   "metadata": {},
   "outputs": [
    {
     "name": "stdout",
     "output_type": "stream",
     "text": [
      "True\n"
     ]
    }
   ],
   "source": [
    "if -1:\n",
    "    print(\"True\")"
   ]
  },
  {
   "cell_type": "code",
   "execution_count": 7,
   "metadata": {},
   "outputs": [
    {
     "name": "stdout",
     "output_type": "stream",
     "text": [
      "CurrentPlayer.HUMAN\n",
      "0\n",
      "CurrentPlayer.NONE\n"
     ]
    },
    {
     "ename": "TypeError",
     "evalue": "'CurrentPlayer' object is not callable",
     "output_type": "error",
     "traceback": [
      "\u001b[1;31m---------------------------------------------------------------------------\u001b[0m",
      "\u001b[1;31mTypeError\u001b[0m                                 Traceback (most recent call last)",
      "Cell \u001b[1;32mIn[7], line 10\u001b[0m\n\u001b[0;32m      8\u001b[0m \u001b[38;5;28mprint\u001b[39m(cp\u001b[38;5;241m.\u001b[39mvalue)\n\u001b[0;32m      9\u001b[0m \u001b[38;5;28mprint\u001b[39m(cp)\n\u001b[1;32m---> 10\u001b[0m cp \u001b[38;5;241m=\u001b[39m \u001b[43mcp\u001b[49m\u001b[43m(\u001b[49m\u001b[38;5;241;43m1\u001b[39;49m\u001b[43m)\u001b[49m\n",
      "\u001b[1;31mTypeError\u001b[0m: 'CurrentPlayer' object is not callable"
     ]
    }
   ],
   "source": [
    "from enum import Enum\n",
    "class CurrentPlayer(Enum):\n",
    "    HUMAN = 1\n",
    "    NONE = 0\n",
    "    COMPUTER = -1\n",
    "cp = CurrentPlayer.NONE\n",
    "print(CurrentPlayer(1))\n",
    "print(cp.value)\n",
    "print(cp)\n",
    "cp = cp(1)"
   ]
  },
  {
   "cell_type": "code",
   "execution_count": 5,
   "metadata": {},
   "outputs": [
    {
     "name": "stdout",
     "output_type": "stream",
     "text": [
      "[[0. 0. 0. 0. 0. 0. 0.]\n",
      " [0. 0. 0. 0. 0. 0. 0.]\n",
      " [0. 0. 0. 0. 0. 0. 0.]\n",
      " [0. 0. 0. 0. 0. 0. 0.]\n",
      " [0. 0. 0. 0. 0. 0. 0.]\n",
      " [0. 0. 0. 0. 0. 0. 0.]]\n"
     ]
    }
   ],
   "source": [
    "import numpy as np\n",
    "a = np.zeros([6,7])\n",
    "print(a)"
   ]
  },
  {
   "cell_type": "code",
   "execution_count": 6,
   "metadata": {},
   "outputs": [
    {
     "data": {
      "text/plain": [
       "array([[0, 0, 0, 0, 0, 0, 0],\n",
       "       [0, 0, 0, 0, 0, 0, 0],\n",
       "       [0, 0, 0, 0, 0, 0, 0],\n",
       "       [0, 0, 0, 0, 0, 0, 0],\n",
       "       [0, 0, 0, 0, 0, 0, 0],\n",
       "       [0, 0, 0, 0, 0, 0, 0]])"
      ]
     },
     "execution_count": 6,
     "metadata": {},
     "output_type": "execute_result"
    }
   ],
   "source": [
    "np.array([[0 for _ in range(7)] for _ in range(6)])"
   ]
  },
  {
   "cell_type": "code",
   "execution_count": 6,
   "metadata": {},
   "outputs": [
    {
     "data": {
      "text/plain": [
       "2"
      ]
     },
     "execution_count": 6,
     "metadata": {},
     "output_type": "execute_result"
    }
   ],
   "source": [
    "from copy import copy\n",
    "a = 1\n",
    "b = 1\n",
    "a = b\n",
    "b = 2\n",
    "a = 3\n",
    "b"
   ]
  },
  {
   "cell_type": "code",
   "execution_count": 13,
   "metadata": {},
   "outputs": [
    {
     "name": "stdout",
     "output_type": "stream",
     "text": [
      "[1, 2]\n"
     ]
    }
   ],
   "source": [
    "a = [1,2]\n",
    "b = copy(a)\n",
    "a[0] = 5\n",
    "print(copy(b))"
   ]
  },
  {
   "cell_type": "code",
   "execution_count": 8,
   "metadata": {},
   "outputs": [
    {
     "data": {
      "text/plain": [
       "1073741824"
      ]
     },
     "execution_count": 8,
     "metadata": {},
     "output_type": "execute_result"
    }
   ],
   "source": [
    "2**30"
   ]
  },
  {
   "cell_type": "code",
   "execution_count": 9,
   "metadata": {},
   "outputs": [
    {
     "data": {
      "text/plain": [
       "8388608"
      ]
     },
     "execution_count": 9,
     "metadata": {},
     "output_type": "execute_result"
    }
   ],
   "source": [
    "2**23"
   ]
  },
  {
   "cell_type": "code",
   "execution_count": 11,
   "metadata": {},
   "outputs": [
    {
     "data": {
      "text/plain": [
       "131072"
      ]
     },
     "execution_count": 11,
     "metadata": {},
     "output_type": "execute_result"
    }
   ],
   "source": [
    "2**17"
   ]
  },
  {
   "cell_type": "code",
   "execution_count": 13,
   "metadata": {},
   "outputs": [
    {
     "data": {
      "text/plain": [
       "1024"
      ]
     },
     "execution_count": 13,
     "metadata": {},
     "output_type": "execute_result"
    }
   ],
   "source": [
    "2**10"
   ]
  },
  {
   "cell_type": "code",
   "execution_count": 14,
   "metadata": {},
   "outputs": [
    {
     "data": {
      "text/plain": [
       "512"
      ]
     },
     "execution_count": 14,
     "metadata": {},
     "output_type": "execute_result"
    }
   ],
   "source": [
    "2**9"
   ]
  },
  {
   "cell_type": "markdown",
   "metadata": {},
   "source": []
  },
  {
   "cell_type": "code",
   "execution_count": 1,
   "metadata": {},
   "outputs": [
    {
     "ename": "",
     "evalue": "",
     "output_type": "error",
     "traceback": [
      "\u001b[1;31mThe Kernel crashed while executing code in the current cell or a previous cell. \n",
      "\u001b[1;31mPlease review the code in the cell(s) to identify a possible cause of the failure. \n",
      "\u001b[1;31mClick <a href='https://aka.ms/vscodeJupyterKernelCrash'>here</a> for more info. \n",
      "\u001b[1;31mView Jupyter <a href='command:jupyter.viewOutput'>log</a> for further details."
     ]
    }
   ],
   "source": [
    "from PySide6.QtGui import QPainter\n",
    "from PySide6.QtWidgets import QWidget, QApplication, QPushButton, QMainWindow\n",
    "import functools\n",
    "\n",
    "class mainWindow(QMainWindow):\n",
    "    def __init__(self):\n",
    "        super().__init__()\n",
    "        self.setGeometry(\n",
    "            0,\n",
    "            0,\n",
    "            100,\n",
    "            100\n",
    "        )\n",
    "        self.playAgainButton = QPushButton(\"Play Again\", self)\n",
    "        self.playAgainButton.clicked.connect(functools.partial(self.disablePlayAgainButton))\n",
    "        self.playAgainButton.setGeometry(\n",
    "            7.5*80,\n",
    "            (3.5+0.25)*80,\n",
    "            2*80,\n",
    "            0.25*80\n",
    "        )\n",
    "        self.show()\n",
    "    def disablePlayAgainButton(self):\n",
    "        self.playAgainButton.setEnabled(True)\n",
    "\n",
    "if __name__ == '__main__':\n",
    "    app = QApplication.instance()\n",
    "    mainWin = mainWindow()\n",
    "    app.exec()"
   ]
  },
  {
   "cell_type": "code",
   "execution_count": null,
   "metadata": {},
   "outputs": [],
   "source": [
    "d = dict()\n"
   ]
  },
  {
   "cell_type": "markdown",
   "metadata": {},
   "source": [
    "# 4-in-a-row  \n",
    "Connect-4 game implemented using Python-PySide6 and with an AI agent inspired by DeepMind's AlphaZero algorithm.\n",
    "  \n",
    "These are some screenshots of the game:  \n",
    "![human-win scenario](Game_screenshot_1.png)\n",
    "![first screen](Game_screenshot_2.png)"
   ]
  },
  {
   "cell_type": "markdown",
   "metadata": {},
   "source": []
  },
  {
   "cell_type": "code",
   "execution_count": 1,
   "metadata": {},
   "outputs": [
    {
     "ename": "SystemExit",
     "evalue": "0",
     "output_type": "error",
     "traceback": [
      "An exception has occurred, use %tb to see the full traceback.\n",
      "\u001b[1;31mSystemExit\u001b[0m\u001b[1;31m:\u001b[0m 0\n"
     ]
    },
    {
     "name": "stderr",
     "output_type": "stream",
     "text": [
      "c:\\Users\\nagar\\AppData\\Local\\Programs\\Python\\Python312\\Lib\\site-packages\\IPython\\core\\interactiveshell.py:3585: UserWarning: To exit: use 'exit', 'quit', or Ctrl-D.\n",
      "  warn(\"To exit: use 'exit', 'quit', or Ctrl-D.\", stacklevel=1)\n"
     ]
    }
   ],
   "source": [
    "import sys\n",
    "from PySide6.QtWidgets import (\n",
    "    QApplication, QGraphicsScene, QGraphicsView, QGraphicsPixmapItem, QGraphicsBlurEffect\n",
    ")\n",
    "from PySide6.QtGui import QPixmap\n",
    "\n",
    "\n",
    "# Step 1: Create the application\n",
    "app = QApplication(sys.argv)\n",
    "\n",
    "# Step 2: Create a scene and a view\n",
    "scene = QGraphicsScene()\n",
    "view = QGraphicsView(scene)\n",
    "\n",
    "# Step 3: Load an image and add it to the scene\n",
    "pixmap_item = QGraphicsPixmapItem(QPixmap(\"example_image.png\"))\n",
    "scene.addItem(pixmap_item)\n",
    "\n",
    "# Step 4: Create a blur effect\n",
    "blur_effect = QGraphicsBlurEffect()\n",
    "blur_effect.setBlurRadius(10)  # Set the blur radius\n",
    "\n",
    "# Step 5: Apply the blur effect to the item\n",
    "pixmap_item.setGraphicsEffect(blur_effect)\n",
    "\n",
    "# Step 6: Show the view\n",
    "view.show()\n",
    "\n",
    "# Step 7: Run the application loop\n",
    "sys.exit(app.exec())\n"
   ]
  },
  {
   "cell_type": "code",
   "execution_count": 1,
   "metadata": {},
   "outputs": [
    {
     "ename": "SystemExit",
     "evalue": "0",
     "output_type": "error",
     "traceback": [
      "An exception has occurred, use %tb to see the full traceback.\n",
      "\u001b[1;31mSystemExit\u001b[0m\u001b[1;31m:\u001b[0m 0\n"
     ]
    },
    {
     "name": "stderr",
     "output_type": "stream",
     "text": [
      "c:\\Users\\nagar\\AppData\\Local\\Programs\\Python\\Python312\\Lib\\site-packages\\IPython\\core\\interactiveshell.py:3585: UserWarning: To exit: use 'exit', 'quit', or Ctrl-D.\n",
      "  warn(\"To exit: use 'exit', 'quit', or Ctrl-D.\", stacklevel=1)\n"
     ]
    }
   ],
   "source": [
    "import sys\n",
    "from PySide6.QtWidgets import (\n",
    "    QApplication, QWidget, QVBoxLayout, QHBoxLayout, QPushButton, QGraphicsBlurEffect, QGraphicsOpacityEffect\n",
    ")\n",
    "from PySide6.QtCore import Qt\n",
    "\n",
    "class MainWindow(QWidget):\n",
    "    def __init__(self):\n",
    "        super().__init__()\n",
    "\n",
    "        # Main layout\n",
    "        main_layout = QVBoxLayout()\n",
    "        self.setLayout(main_layout)\n",
    "\n",
    "        # Lower widgets (side-to-side)\n",
    "        lower_layout = QHBoxLayout()\n",
    "        main_layout.addLayout(lower_layout)\n",
    "\n",
    "        # Add widgets to the lower section\n",
    "        self.widgets = []\n",
    "        for i in range(3):\n",
    "            button = QPushButton(f\"Widget {i+1}\")\n",
    "            self.widgets.append(button)\n",
    "            lower_layout.addWidget(button)\n",
    "\n",
    "        # Apply blur effects to lower widgets\n",
    "        for widget in self.widgets:\n",
    "            blur_effect = QGraphicsBlurEffect()\n",
    "            blur_effect.setBlurRadius(10)  # Set blur radius\n",
    "            widget.setGraphicsEffect(blur_effect)\n",
    "\n",
    "        # Top overlay widget\n",
    "        self.overlay_widget = QPushButton(\"Overlay Widget\")\n",
    "        self.overlay_widget.setFixedHeight(100)  # Example fixed size for overlay\n",
    "        self.overlay_widget.setStyleSheet(\n",
    "            \"background-color: rgba(255, 255, 255, 200); border: 1px solid black;\"\n",
    "        )  # Semi-transparent white background\n",
    "\n",
    "        # Apply opacity effect to the overlay\n",
    "        opacity_effect = QGraphicsOpacityEffect()\n",
    "        opacity_effect.setOpacity(0.9)  # Set the opacity level (0: fully transparent, 1: fully opaque)\n",
    "        self.overlay_widget.setGraphicsEffect(opacity_effect)\n",
    "\n",
    "        # Add overlay widget to main layout\n",
    "        main_layout.addWidget(self.overlay_widget, alignment=Qt.AlignTop)\n",
    "\n",
    "        # Styling the main window\n",
    "        self.setStyleSheet(\"background-color: lightgray;\")  # Example background color\n",
    "        self.resize(400, 300)  # Resize main window\n",
    "\n",
    "\n",
    "# Run the application\n",
    "app = QApplication(sys.argv)\n",
    "window = MainWindow()\n",
    "window.show()\n",
    "sys.exit(app.exec())\n"
   ]
  },
  {
   "cell_type": "code",
   "execution_count": 1,
   "metadata": {},
   "outputs": [
    {
     "name": "stdout",
     "output_type": "stream",
     "text": [
      "False\n"
     ]
    }
   ],
   "source": [
    "f = True\n",
    "g = not f\n",
    "print(g)"
   ]
  },
  {
   "cell_type": "code",
   "execution_count": null,
   "metadata": {},
   "outputs": [],
   "source": []
  }
 ],
 "metadata": {
  "kernelspec": {
   "display_name": "Python 3",
   "language": "python",
   "name": "python3"
  },
  "language_info": {
   "codemirror_mode": {
    "name": "ipython",
    "version": 3
   },
   "file_extension": ".py",
   "mimetype": "text/x-python",
   "name": "python",
   "nbconvert_exporter": "python",
   "pygments_lexer": "ipython3",
   "version": "3.12.5"
  }
 },
 "nbformat": 4,
 "nbformat_minor": 2
}
